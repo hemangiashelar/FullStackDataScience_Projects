{
 "cells": [
  {
   "cell_type": "code",
   "execution_count": 1,
   "id": "b7347604",
   "metadata": {
    "scrolled": true
   },
   "outputs": [],
   "source": [
    "import qrcode"
   ]
  },
  {
   "cell_type": "code",
   "execution_count": 2,
   "id": "d3c5f73c",
   "metadata": {},
   "outputs": [],
   "source": [
    "# Generate a QR code\n",
    "img = qrcode.make(\"https://itsasomethingnew.blogspot.com/\")"
   ]
  },
  {
   "cell_type": "code",
   "execution_count": 3,
   "id": "165b82c3",
   "metadata": {},
   "outputs": [],
   "source": [
    "# Save the QR code image\n",
    "img.save(\"hem.png\")"
   ]
  },
  {
   "cell_type": "markdown",
   "id": "54f08e9c",
   "metadata": {},
   "source": [
    "In this example, we're using the `qrcode` library to generate a QR code for the URL \"https://itsasomethingnew.blogspot.com/\". We start by calling the `make` function and passing in the data that we want to encode in the QR code. The `make` function returns a `QRCode` object, which we can then use to generate the QR code image.\n",
    "\n",
    "To save the QR code image, we call the `save` method on the `QRCode` object and pass in a filename for the image. The `save` method will generate a PNG image file containing the QR code.\n",
    "\n",
    "You can customize this example to suit your needs by generating QR codes for different types of data, such as text, phone numbers, or email addresses. You can also customize the appearance of the QR code by using the `qrcode` library's various options and settings."
   ]
  }
 ],
 "metadata": {
  "kernelspec": {
   "display_name": "Python 3 (ipykernel)",
   "language": "python",
   "name": "python3"
  },
  "language_info": {
   "codemirror_mode": {
    "name": "ipython",
    "version": 3
   },
   "file_extension": ".py",
   "mimetype": "text/x-python",
   "name": "python",
   "nbconvert_exporter": "python",
   "pygments_lexer": "ipython3",
   "version": "3.10.9"
  }
 },
 "nbformat": 4,
 "nbformat_minor": 5
}
